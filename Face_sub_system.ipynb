{
  "nbformat": 4,
  "nbformat_minor": 0,
  "metadata": {
    "colab": {
      "name": "Face_sub_system.ipynb",
      "provenance": [],
      "collapsed_sections": [],
      "include_colab_link": true
    },
    "kernelspec": {
      "name": "python3",
      "display_name": "Python 3"
    },
    "accelerator": "GPU"
  },
  "cells": [
    {
      "cell_type": "markdown",
      "metadata": {
        "id": "view-in-github",
        "colab_type": "text"
      },
      "source": [
        "<a href=\"https://colab.research.google.com/github/EriProject/Multimodal_Biometrics/blob/master/Face_sub_system.ipynb\" target=\"_parent\"><img src=\"https://colab.research.google.com/assets/colab-badge.svg\" alt=\"Open In Colab\"/></a>"
      ]
    },
    {
      "cell_type": "code",
      "metadata": {
        "id": "oi3tGraDi2v8",
        "colab_type": "code",
        "outputId": "42d2dd4d-2fe4-4121-8329-2055f645b661",
        "colab": {
          "base_uri": "https://localhost:8080/",
          "height": 141
        }
      },
      "source": [
        "\n",
        "# import libraries\n",
        "import pandas as pd\n",
        "import matplotlib.pyplot as plt\n",
        "%matplotlib inline \n",
        "import cv2\n",
        "import os\n",
        "import tensorflow as tf\n",
        "from keras.applications import ResNet50\n",
        "from keras.models import Sequential\n",
        "from keras.applications import imagenet_utils\n",
        "#from keras.layers.core import Dense\n",
        "from keras.layers.core import Dense, Flatten, Dropout\n",
        "from keras import backend as K \n",
        "from keras.applications.resnet50 import preprocess_input\n",
        "from keras.preprocessing.image import ImageDataGenerator\n",
        "from keras.layers.convolutional import Conv2D, MaxPooling2D, SeparableConv2D\n",
        "from tensorflow.keras import optimizers\n",
        "from tensorflow.keras.optimizers import Adam, SGD\n",
        "from tensorflow.keras.models import model_from_json\n",
        "import numpy as np\n",
        "from sklearn.metrics import confusion_matrix \n",
        "\n",
        "# mount drive to google colab\n",
        "from google.colab import drive\n",
        "drive.mount('/content/drive')\n",
        "import os\n",
        "import tempfile"
      ],
      "execution_count": 0,
      "outputs": [
        {
          "output_type": "stream",
          "text": [
            "Using TensorFlow backend.\n"
          ],
          "name": "stderr"
        },
        {
          "output_type": "stream",
          "text": [
            "Go to this URL in a browser: https://accounts.google.com/o/oauth2/auth?client_id=947318989803-6bn6qk8qdgf4n4g3pfee6491hc0brc4i.apps.googleusercontent.com&redirect_uri=urn%3aietf%3awg%3aoauth%3a2.0%3aoob&response_type=code&scope=email%20https%3a%2f%2fwww.googleapis.com%2fauth%2fdocs.test%20https%3a%2f%2fwww.googleapis.com%2fauth%2fdrive%20https%3a%2f%2fwww.googleapis.com%2fauth%2fdrive.photos.readonly%20https%3a%2f%2fwww.googleapis.com%2fauth%2fpeopleapi.readonly\n",
            "\n",
            "Enter your authorization code:\n",
            "··········\n",
            "Mounted at /content/drive\n"
          ],
          "name": "stdout"
        }
      ]
    },
    {
      "cell_type": "code",
      "metadata": {
        "id": "75ybkLI2we6s",
        "colab_type": "code",
        "colab": {}
      },
      "source": [
        "# add regularizer to the model\n",
        "def add_regularization(reg_model, regularizer=tf.keras.regularizers.l2(0.0001)):\n",
        "\n",
        "    if not isinstance(regularizer, tf.keras.regularizers.Regularizer):\n",
        "      print(\"Regularizer must be a subclass of tf.keras.regularizers.Regularizer\")\n",
        "      return reg_model\n",
        "\n",
        "    for layer in reg_model.layers:\n",
        "        for attr in ['kernel_regularizer']:\n",
        "            if hasattr(layer, attr):\n",
        "              setattr(layer, attr, regularizer)\n",
        "\n",
        "    # When we change the layers attributes, the change only happens in the model config file\n",
        "    model_json = reg_model.to_json()\n",
        "\n",
        "    # Save the weights before reloading the model.\n",
        "    tmp_weights_path = os.path.join(tempfile.gettempdir(), 'tmp_weights_Final_face.h5')\n",
        "    reg_model.save_weights(tmp_weights_path)\n",
        "\n",
        "    # load the model from the config\n",
        "    reg_model = tf.keras.models.model_from_json(model_json)\n",
        "    \n",
        "    # Reload the model weights\n",
        "    reg_model.load_weights(tmp_weights_path, by_name=True)\n",
        "    return reg_model\n"
      ],
      "execution_count": 0,
      "outputs": []
    },
    {
      "cell_type": "code",
      "metadata": {
        "id": "c8_CTiz-nD55",
        "colab_type": "code",
        "colab": {}
      },
      "source": [
        "NUM_CLASSES = 40\n",
        "CHANNELS = 3\n",
        "IMAGE_RESIZE = 224\n",
        "RESNET50_POOLING_AVERAGE = 'avg'\n",
        "DENSE_LAYER_ACTIVATION = 'softmax'\n",
        "OBJECTIVE_FUNCTION = 'categorical_crossentropy'\n",
        "EARLY_STOP_PATIENCE = 3\n",
        "# Using 1 to easily manage mapping between test_generator & prediction for submission preparation\n",
        "BATCH_SIZE_TESTING = 1\n",
        "resnet_weights_path = '../input/resnet50/resnet50_weights_tf_dim_ordering_tf_kernels_notop.h5' # not necessary coz already used imagenet\n",
        " "
      ],
      "execution_count": 0,
      "outputs": []
    },
    {
      "cell_type": "markdown",
      "metadata": {
        "id": "kIXqu48yp68m",
        "colab_type": "text"
      },
      "source": [
        "STEPS_PER_EPOCH_TRAINING = training set/ batch size"
      ]
    },
    {
      "cell_type": "code",
      "metadata": {
        "id": "EchmfQcFp2K6",
        "colab_type": "code",
        "outputId": "89231b88-44a6-4bed-e146-a85dd3c1c61e",
        "colab": {
          "base_uri": "https://localhost:8080/",
          "height": 260
        }
      },
      "source": [
        "\n",
        "model = Sequential()\n",
        "\n",
        "# 1st layer as the lumpsum weights from resnet50_weights_tf_dim_ordering_tf_kernels_notop.h5\n",
        "# NOTE that this layer will be set below as NOT TRAINABLE, i.e., use it as is\n",
        "Resnet_Model=ResNet50(include_top = False, pooling = RESNET50_POOLING_AVERAGE, weights = 'imagenet') #resnet_weights_path\n",
        "#model.add(Dropout(0.4))\n",
        "#Resnet_Model_improved=add_regularization(Resnet_Model)\n",
        "model.add(Resnet_Model)\n",
        "# 2nd layer as Dense for 2-class classification, i.e., dog or cat using SoftMax activation\n",
        "model.add(Dense(NUM_CLASSES,activation = DENSE_LAYER_ACTIVATION)) #,  kernel_initializer='random_normal'\n",
        "\n",
        "# Say not to train first layer (ResNet) model as it is already trained\n",
        "model.layers[0].trainable = False\n",
        "model.summary()\n",
        "type(model)\n",
        "\n",
        "\n",
        "model=add_regularization(model)\n",
        "# sgdd= optimizers.SGD(lr = 0.01, momentum = 0.9, clipvalue=0.5 ,decay = 1e-6,nesterov = True) #, clipvalue=0.5 #,decay = 1e-6\n",
        "# # model.compile(optimizer =sgd, loss = loss='categorical_crossentropy', metrics = ['accuracy']) #sgd\n",
        "# model.compile(sgdd,loss='mean_squared_error', metrics=['accuracy']) #Adam(lr= 0.0001)\n",
        " \n",
        "\n",
        "# model=add_regularization(model)\n",
        "\n",
        "model.compile(Adam(lr= 0.001),loss='categorical_crossentropy', metrics=['accuracy'])\n"
      ],
      "execution_count": 0,
      "outputs": [
        {
          "output_type": "stream",
          "text": [
            "Downloading data from https://github.com/fchollet/deep-learning-models/releases/download/v0.2/resnet50_weights_tf_dim_ordering_tf_kernels_notop.h5\n",
            "94658560/94653016 [==============================] - 3s 0us/step\n",
            "Model: \"sequential_1\"\n",
            "_________________________________________________________________\n",
            "Layer (type)                 Output Shape              Param #   \n",
            "=================================================================\n",
            "resnet50 (Model)             (None, 2048)              23587712  \n",
            "_________________________________________________________________\n",
            "dense_1 (Dense)              (None, 40)                81960     \n",
            "=================================================================\n",
            "Total params: 23,669,672\n",
            "Trainable params: 81,960\n",
            "Non-trainable params: 23,587,712\n",
            "_________________________________________________________________\n"
          ],
          "name": "stdout"
        }
      ]
    },
    {
      "cell_type": "code",
      "metadata": {
        "id": "JL7Li38n4Vnx",
        "colab_type": "code",
        "colab": {}
      },
      "source": [
        "\n",
        "img_width, img_height = 224, 224\n",
        "if K.image_data_format() == 'channels_first':\n",
        "    input_shape = (3, img_width, img_height)\n",
        "else:\n",
        "    input_shape = (img_width, img_height, 3)"
      ],
      "execution_count": 0,
      "outputs": []
    },
    {
      "cell_type": "code",
      "metadata": {
        "id": "DhqJVw7e5tP-",
        "colab_type": "code",
        "outputId": "776aeab1-b1bc-4ee8-cd7b-e1a3efff4279",
        "colab": {
          "base_uri": "https://localhost:8080/",
          "height": 69
        }
      },
      "source": [
        "# These steps value should be proper FACTOR of no.-of-images in train & valid folders respectively\n",
        "# Training images processed in each step would be no.-of-train-images / STEPS_PER_EPOCH_TRAINING\n",
        "BATCH_SIZE_TRAINING = 15 #100\n",
        "BATCH_SIZE_VALIDATION =15 #100\n",
        "image_size = IMAGE_RESIZE\n",
        "STEPS_PER_EPOCH_TRAINING =  682 // BATCH_SIZE_TRAINING #10\n",
        "STEPS_PER_EPOCH_VALIDATION = 80 // BATCH_SIZE_VALIDATION\n",
        "NUM_EPOCHS = 64\n",
        "\n",
        "\n",
        "# preprocessing_function is applied on each image but only after re-sizing & augmentation (resize => augment => pre-process)\n",
        "# Each of the keras.application.resnet* preprocess_input MOSTLY mean BATCH NORMALIZATION (applied on each batch) stabilize the inputs to nonlinear activation functions\n",
        "# Batch Normalization helps in faster convergence\n",
        "   \n",
        "# Train data generator\n",
        "train_datagen = ImageDataGenerator(preprocessing_function=preprocess_input,\n",
        "    width_shift_range=0.1,\n",
        "    shear_range=0.2,\n",
        "    zoom_range=0.1,\n",
        "    horizontal_flip=True)\n",
        "\n",
        "\n",
        "#validation data generator\n",
        "validate_datagen = ImageDataGenerator(preprocessing_function=preprocess_input)\n",
        "\n",
        "\n",
        "# read the images from respective directories\n",
        "# read training images\n",
        "\n",
        "\n",
        "train_data_dir = '/content/drive/My Drive/Final_Fusion/Face_Data/Train'\n",
        "validation_data_dir = '/content/drive/My Drive/Final_Fusion/Face_Data/Validation'\n",
        "test_data_dir = '/content/drive/My Drive/Final_Fusion/Face_Data/Test'\n",
        "\n",
        "\n",
        "train_generator = train_datagen.flow_from_directory(\n",
        "    train_data_dir,\n",
        "    target_size=(img_width, img_height),\n",
        "    batch_size=BATCH_SIZE_TRAINING,\n",
        "    shuffle =True,\n",
        "    class_mode='categorical')\n",
        "\n",
        "\n",
        "# read validation images\n",
        "validation_generator = validate_datagen.flow_from_directory(\n",
        "    validation_data_dir,\n",
        "    target_size=(img_width, img_height),\n",
        "    shuffle=True,\n",
        "    batch_size=BATCH_SIZE_VALIDATION,\n",
        "    class_mode='categorical')\n",
        "\n",
        "(BATCH_SIZE_TRAINING, len(train_generator), BATCH_SIZE_VALIDATION, len(validation_generator))\n"
      ],
      "execution_count": 0,
      "outputs": [
        {
          "output_type": "stream",
          "text": [
            "Found 682 images belonging to 40 classes.\n",
            "Found 80 images belonging to 40 classes.\n"
          ],
          "name": "stdout"
        },
        {
          "output_type": "execute_result",
          "data": {
            "text/plain": [
              "(15, 46, 15, 6)"
            ]
          },
          "metadata": {
            "tags": []
          },
          "execution_count": 6
        }
      ]
    },
    {
      "cell_type": "code",
      "metadata": {
        "id": "-DpN0rF5APDx",
        "colab_type": "code",
        "colab": {}
      },
      "source": [
        "# Early stopping & checkpointing the best model in ../working dir & restoring that as our model for prediction\n",
        "from keras.callbacks import EarlyStopping, ModelCheckpoint\n",
        "cb_early_stopper = EarlyStopping(monitor = 'val_loss', patience = EARLY_STOP_PATIENCE)\n",
        "cb_checkpointer = ModelCheckpoint(filepath = 'BesttChoiceAgain.hdf5', monitor = 'val_loss', save_best_only = True, mode = 'auto')"
      ],
      "execution_count": 0,
      "outputs": []
    },
    {
      "cell_type": "code",
      "metadata": {
        "id": "kzypWRurAtCp",
        "colab_type": "code",
        "outputId": "330c5641-fbc1-45d1-f69a-865889fcfd77",
        "colab": {
          "base_uri": "https://localhost:8080/",
          "height": 1000
        }
      },
      "source": [
        "# define the training model\n",
        "\n",
        "fit_history = model.fit(\n",
        "    train_generator,\n",
        "    steps_per_epoch=STEPS_PER_EPOCH_TRAINING, #\n",
        "    epochs = NUM_EPOCHS,\n",
        "    validation_data=validation_generator,\n",
        "    validation_steps=STEPS_PER_EPOCH_VALIDATION,\n",
        "    shuffle=True)\n",
        "    \n",
        "\n",
        "\n"
      ],
      "execution_count": 0,
      "outputs": [
        {
          "output_type": "stream",
          "text": [
            "Epoch 1/64\n",
            "45/45 [==============================] - 338s 8s/step - loss: 1.3763 - accuracy: 0.7601 - val_loss: 0.2501 - val_accuracy: 0.9467\n",
            "Epoch 2/64\n",
            "45/45 [==============================] - 11s 234ms/step - loss: 0.0454 - accuracy: 1.0000 - val_loss: 0.0282 - val_accuracy: 1.0000\n",
            "Epoch 3/64\n",
            "45/45 [==============================] - 10s 232ms/step - loss: 0.0213 - accuracy: 1.0000 - val_loss: 0.0105 - val_accuracy: 1.0000\n",
            "Epoch 4/64\n",
            "45/45 [==============================] - 11s 234ms/step - loss: 0.0156 - accuracy: 1.0000 - val_loss: 0.0090 - val_accuracy: 1.0000\n",
            "Epoch 5/64\n",
            "45/45 [==============================] - 11s 235ms/step - loss: 0.0128 - accuracy: 1.0000 - val_loss: 0.0088 - val_accuracy: 1.0000\n",
            "Epoch 6/64\n",
            "45/45 [==============================] - 11s 237ms/step - loss: 0.0171 - accuracy: 1.0000 - val_loss: 0.0091 - val_accuracy: 1.0000\n",
            "Epoch 7/64\n",
            "45/45 [==============================] - 11s 234ms/step - loss: 0.0121 - accuracy: 1.0000 - val_loss: 0.0083 - val_accuracy: 1.0000\n",
            "Epoch 8/64\n",
            "45/45 [==============================] - 11s 236ms/step - loss: 0.0116 - accuracy: 1.0000 - val_loss: 0.0084 - val_accuracy: 1.0000\n",
            "Epoch 9/64\n",
            "45/45 [==============================] - 11s 234ms/step - loss: 0.0101 - accuracy: 1.0000 - val_loss: 0.0082 - val_accuracy: 1.0000\n",
            "Epoch 10/64\n",
            "45/45 [==============================] - 11s 236ms/step - loss: 0.0097 - accuracy: 1.0000 - val_loss: 0.0081 - val_accuracy: 1.0000\n",
            "Epoch 11/64\n",
            "45/45 [==============================] - 11s 234ms/step - loss: 0.0092 - accuracy: 1.0000 - val_loss: 0.0081 - val_accuracy: 1.0000\n",
            "Epoch 12/64\n",
            "45/45 [==============================] - 11s 236ms/step - loss: 0.0093 - accuracy: 1.0000 - val_loss: 0.0080 - val_accuracy: 1.0000\n",
            "Epoch 13/64\n",
            "45/45 [==============================] - 11s 237ms/step - loss: 0.0087 - accuracy: 1.0000 - val_loss: 0.0080 - val_accuracy: 1.0000\n",
            "Epoch 14/64\n",
            "45/45 [==============================] - 11s 239ms/step - loss: 0.0087 - accuracy: 1.0000 - val_loss: 0.0080 - val_accuracy: 1.0000\n",
            "Epoch 15/64\n",
            "45/45 [==============================] - 11s 239ms/step - loss: 0.0087 - accuracy: 1.0000 - val_loss: 0.0080 - val_accuracy: 1.0000\n",
            "Epoch 16/64\n",
            "45/45 [==============================] - 11s 236ms/step - loss: 0.0086 - accuracy: 1.0000 - val_loss: 0.0080 - val_accuracy: 1.0000\n",
            "Epoch 17/64\n",
            "45/45 [==============================] - 11s 237ms/step - loss: 0.0085 - accuracy: 1.0000 - val_loss: 0.0079 - val_accuracy: 1.0000\n",
            "Epoch 18/64\n",
            "45/45 [==============================] - 11s 237ms/step - loss: 0.0084 - accuracy: 1.0000 - val_loss: 0.0079 - val_accuracy: 1.0000\n",
            "Epoch 19/64\n",
            "45/45 [==============================] - 11s 236ms/step - loss: 0.0084 - accuracy: 1.0000 - val_loss: 0.0079 - val_accuracy: 1.0000\n",
            "Epoch 20/64\n",
            "45/45 [==============================] - 11s 235ms/step - loss: 0.0083 - accuracy: 1.0000 - val_loss: 0.0079 - val_accuracy: 1.0000\n",
            "Epoch 21/64\n",
            "45/45 [==============================] - 11s 238ms/step - loss: 0.0083 - accuracy: 1.0000 - val_loss: 0.0079 - val_accuracy: 1.0000\n",
            "Epoch 22/64\n",
            "45/45 [==============================] - 11s 236ms/step - loss: 0.0083 - accuracy: 1.0000 - val_loss: 0.0079 - val_accuracy: 1.0000\n",
            "Epoch 23/64\n",
            "45/45 [==============================] - 11s 235ms/step - loss: 0.0082 - accuracy: 1.0000 - val_loss: 0.0079 - val_accuracy: 1.0000\n",
            "Epoch 24/64\n",
            "45/45 [==============================] - 11s 236ms/step - loss: 0.0082 - accuracy: 1.0000 - val_loss: 0.0079 - val_accuracy: 1.0000\n",
            "Epoch 25/64\n",
            "45/45 [==============================] - 11s 236ms/step - loss: 0.0081 - accuracy: 1.0000 - val_loss: 0.0079 - val_accuracy: 1.0000\n",
            "Epoch 26/64\n",
            "45/45 [==============================] - 11s 236ms/step - loss: 0.0082 - accuracy: 1.0000 - val_loss: 0.0078 - val_accuracy: 1.0000\n",
            "Epoch 27/64\n",
            "45/45 [==============================] - 11s 235ms/step - loss: 0.0081 - accuracy: 1.0000 - val_loss: 0.0078 - val_accuracy: 1.0000\n",
            "Epoch 28/64\n",
            "45/45 [==============================] - 11s 241ms/step - loss: 0.0082 - accuracy: 1.0000 - val_loss: 0.0078 - val_accuracy: 1.0000\n",
            "Epoch 29/64\n",
            "45/45 [==============================] - 11s 235ms/step - loss: 0.0081 - accuracy: 1.0000 - val_loss: 0.0078 - val_accuracy: 1.0000\n",
            "Epoch 30/64\n",
            "45/45 [==============================] - 11s 237ms/step - loss: 0.0081 - accuracy: 1.0000 - val_loss: 0.0078 - val_accuracy: 1.0000\n",
            "Epoch 31/64\n",
            "45/45 [==============================] - 11s 234ms/step - loss: 0.0081 - accuracy: 1.0000 - val_loss: 0.0078 - val_accuracy: 1.0000\n",
            "Epoch 32/64\n",
            "45/45 [==============================] - 11s 236ms/step - loss: 0.0082 - accuracy: 1.0000 - val_loss: 0.0078 - val_accuracy: 1.0000\n",
            "Epoch 33/64\n",
            "45/45 [==============================] - 11s 236ms/step - loss: 0.0095 - accuracy: 1.0000 - val_loss: 0.1209 - val_accuracy: 0.9600\n",
            "Epoch 34/64\n",
            "45/45 [==============================] - 11s 236ms/step - loss: 0.0145 - accuracy: 1.0000 - val_loss: 0.0094 - val_accuracy: 1.0000\n",
            "Epoch 35/64\n",
            "45/45 [==============================] - 11s 237ms/step - loss: 0.0100 - accuracy: 1.0000 - val_loss: 0.0080 - val_accuracy: 1.0000\n",
            "Epoch 36/64\n",
            "45/45 [==============================] - 11s 238ms/step - loss: 0.0085 - accuracy: 1.0000 - val_loss: 0.0078 - val_accuracy: 1.0000\n",
            "Epoch 37/64\n",
            "45/45 [==============================] - 11s 235ms/step - loss: 0.0081 - accuracy: 1.0000 - val_loss: 0.0078 - val_accuracy: 1.0000\n",
            "Epoch 38/64\n",
            "45/45 [==============================] - 11s 235ms/step - loss: 0.0081 - accuracy: 1.0000 - val_loss: 0.0078 - val_accuracy: 1.0000\n",
            "Epoch 39/64\n",
            "45/45 [==============================] - 11s 235ms/step - loss: 0.0081 - accuracy: 1.0000 - val_loss: 0.0077 - val_accuracy: 1.0000\n",
            "Epoch 40/64\n",
            "45/45 [==============================] - 11s 234ms/step - loss: 0.0080 - accuracy: 1.0000 - val_loss: 0.0077 - val_accuracy: 1.0000\n",
            "Epoch 41/64\n",
            "45/45 [==============================] - 11s 235ms/step - loss: 0.0080 - accuracy: 1.0000 - val_loss: 0.0077 - val_accuracy: 1.0000\n",
            "Epoch 42/64\n",
            "45/45 [==============================] - 11s 240ms/step - loss: 0.0080 - accuracy: 1.0000 - val_loss: 0.0077 - val_accuracy: 1.0000\n",
            "Epoch 43/64\n",
            "45/45 [==============================] - 11s 238ms/step - loss: 0.0078 - accuracy: 1.0000 - val_loss: 0.0077 - val_accuracy: 1.0000\n",
            "Epoch 44/64\n",
            "45/45 [==============================] - 11s 234ms/step - loss: 0.0079 - accuracy: 1.0000 - val_loss: 0.0077 - val_accuracy: 1.0000\n",
            "Epoch 45/64\n",
            "45/45 [==============================] - 11s 235ms/step - loss: 0.0078 - accuracy: 1.0000 - val_loss: 0.0076 - val_accuracy: 1.0000\n",
            "Epoch 46/64\n",
            "45/45 [==============================] - 11s 236ms/step - loss: 0.0079 - accuracy: 1.0000 - val_loss: 0.0076 - val_accuracy: 1.0000\n",
            "Epoch 47/64\n",
            "45/45 [==============================] - 11s 234ms/step - loss: 0.0078 - accuracy: 1.0000 - val_loss: 0.0076 - val_accuracy: 1.0000\n",
            "Epoch 48/64\n",
            "45/45 [==============================] - 11s 236ms/step - loss: 0.0077 - accuracy: 1.0000 - val_loss: 0.0076 - val_accuracy: 1.0000\n",
            "Epoch 49/64\n",
            "45/45 [==============================] - 11s 237ms/step - loss: 0.0077 - accuracy: 1.0000 - val_loss: 0.0076 - val_accuracy: 1.0000\n",
            "Epoch 50/64\n",
            "45/45 [==============================] - 11s 240ms/step - loss: 0.0077 - accuracy: 1.0000 - val_loss: 0.0076 - val_accuracy: 1.0000\n",
            "Epoch 51/64\n",
            "45/45 [==============================] - 11s 235ms/step - loss: 0.0076 - accuracy: 1.0000 - val_loss: 0.0075 - val_accuracy: 1.0000\n",
            "Epoch 52/64\n",
            "45/45 [==============================] - 11s 234ms/step - loss: 0.0076 - accuracy: 1.0000 - val_loss: 0.0075 - val_accuracy: 1.0000\n",
            "Epoch 53/64\n",
            "45/45 [==============================] - 11s 234ms/step - loss: 0.0076 - accuracy: 1.0000 - val_loss: 0.0075 - val_accuracy: 1.0000\n",
            "Epoch 54/64\n",
            "45/45 [==============================] - 11s 235ms/step - loss: 0.0076 - accuracy: 1.0000 - val_loss: 0.0075 - val_accuracy: 1.0000\n",
            "Epoch 55/64\n",
            "45/45 [==============================] - 11s 235ms/step - loss: 0.0076 - accuracy: 1.0000 - val_loss: 0.0075 - val_accuracy: 1.0000\n",
            "Epoch 56/64\n",
            "45/45 [==============================] - 11s 235ms/step - loss: 0.0075 - accuracy: 1.0000 - val_loss: 0.0074 - val_accuracy: 1.0000\n",
            "Epoch 57/64\n",
            "45/45 [==============================] - 11s 237ms/step - loss: 0.0075 - accuracy: 1.0000 - val_loss: 0.0074 - val_accuracy: 1.0000\n",
            "Epoch 58/64\n",
            "45/45 [==============================] - 11s 236ms/step - loss: 0.0075 - accuracy: 1.0000 - val_loss: 0.0074 - val_accuracy: 1.0000\n",
            "Epoch 59/64\n",
            "45/45 [==============================] - 11s 235ms/step - loss: 0.0075 - accuracy: 1.0000 - val_loss: 0.0074 - val_accuracy: 1.0000\n",
            "Epoch 60/64\n",
            "45/45 [==============================] - 11s 236ms/step - loss: 0.0074 - accuracy: 1.0000 - val_loss: 0.0074 - val_accuracy: 1.0000\n",
            "Epoch 61/64\n",
            "45/45 [==============================] - 11s 234ms/step - loss: 0.0074 - accuracy: 1.0000 - val_loss: 0.0073 - val_accuracy: 1.0000\n",
            "Epoch 62/64\n",
            "45/45 [==============================] - 11s 235ms/step - loss: 0.0075 - accuracy: 1.0000 - val_loss: 0.0073 - val_accuracy: 1.0000\n",
            "Epoch 63/64\n",
            "45/45 [==============================] - 11s 238ms/step - loss: 0.0074 - accuracy: 1.0000 - val_loss: 0.0073 - val_accuracy: 1.0000\n",
            "Epoch 64/64\n",
            "45/45 [==============================] - 11s 235ms/step - loss: 0.0073 - accuracy: 1.0000 - val_loss: 0.0073 - val_accuracy: 1.0000\n"
          ],
          "name": "stdout"
        }
      ]
    },
    {
      "cell_type": "code",
      "metadata": {
        "id": "BnIt8oBijLUU",
        "colab_type": "code",
        "colab": {}
      },
      "source": [
        "def save_model_and_weights(our_model):\n",
        "    model_json = our_model.to_json()\n",
        "    with open(\"/content/drive/My Drive/SAVED MODELS/Face Model/model2.json\", \"w\") as json_file:\n",
        "        json_file.write(model_json)\n",
        "        print(\"[INFO] the model is saved into jason file.\")\n",
        "        # serialize weights to HDF5\n",
        "        our_model.save_weights('/content/drive/My Drive/SAVED MODELS/Face Model/second_face.h5')\n",
        "        print(\"[INFO] Model weights are saved successfully\")\n",
        "\n",
        "        \n",
        "# save the model and weights\n",
        "# save_model_and_weights(model)"
      ],
      "execution_count": 0,
      "outputs": []
    },
    {
      "cell_type": "code",
      "metadata": {
        "id": "-_dJQbAPNyiC",
        "colab_type": "code",
        "outputId": "79d0eb52-a430-4410-e6e9-06a9d35316b7",
        "colab": {
          "base_uri": "https://localhost:8080/",
          "height": 293
        }
      },
      "source": [
        "print(fit_history.history.keys())\n",
        "plt.figure(1, figsize = (15,8))   \n",
        "plt.subplot(221)  \n",
        "plt.plot(fit_history.history['accuracy'])  \n",
        "plt.plot(fit_history.history['val_accuracy'])  \n",
        "plt.title('model accuracy')  \n",
        "plt.ylabel('accuracy')  \n",
        "plt.xlabel('epoch')  \n",
        "plt.legend(['train', 'valid']) \n",
        "plt.subplot(222)  \n",
        "plt.plot(fit_history.history['loss'])  \n",
        "plt.plot(fit_history.history['val_loss'])  \n",
        "plt.title('model loss')  \n",
        "plt.ylabel('loss')  \n",
        "plt.xlabel('epoch')  \n",
        "plt.legend(['train', 'valid']) \n",
        "plt.show()\n"
      ],
      "execution_count": 0,
      "outputs": [
        {
          "output_type": "stream",
          "text": [
            "dict_keys(['loss', 'accuracy', 'val_loss', 'val_accuracy'])\n"
          ],
          "name": "stdout"
        },
        {
          "output_type": "display_data",
          "data": {
            "image/png": "[encoded data removed]",
            "text/plain": [
              "<Figure size 1080x576 with 2 Axes>"
            ]
          },
          "metadata": {
            "tags": [],
            "needs_background": "light"
          }
        }
      ]
    },
    {
      "cell_type": "code",
      "metadata": {
        "id": "IPrpkTRkP3HJ",
        "colab_type": "code",
        "outputId": "4763904b-e75a-48df-cfc3-37fb1e214a1f",
        "colab": {
          "base_uri": "https://localhost:8080/",
          "height": 401
        }
      },
      "source": [
        "# NOTE that flow_from_directory treats each sub-folder as a class which works fine for training data\n",
        "# Actually class_mode=None is a kind of workaround for test data which too must be kept in a subfolder\n",
        "\n",
        "# batch_size can be 1 or any factor of test dataset size to ensure that test dataset is samples just once, i.e., no data is left out\n",
        "test_generator = validate_datagen.flow_from_directory(\n",
        "    '/content/drive/My Drive/Face_D/Validation',\n",
        "    target_size = (image_size, image_size),\n",
        "    batch_size = 1,#BATCH_SIZE_TESTING,\n",
        "    class_mode = None,\n",
        "    shuffle = False,\n",
        "    seed = 123\n",
        ")\n",
        "# test generator for imposters\n",
        "test_generator_random= validate_datagen.flow_from_directory(\n",
        "    '/content/drive/My Drive/random',\n",
        "    target_size = (image_size, image_size),\n",
        "    batch_size = 1,#BATCH_SIZE_TESTING,\n",
        "    class_mode = None,\n",
        "    shuffle = False,\n",
        "    seed = 123\n",
        ")\n"
      ],
      "execution_count": 0,
      "outputs": [
        {
          "output_type": "error",
          "ename": "FileNotFoundError",
          "evalue": "ignored",
          "traceback": [
            "\u001b[0;31m---------------------------------------------------------------------------\u001b[0m",
            "\u001b[0;31mFileNotFoundError\u001b[0m                         Traceback (most recent call last)",
            "\u001b[0;32m<ipython-input-10-10c0b6f0838f>\u001b[0m in \u001b[0;36m<module>\u001b[0;34m()\u001b[0m\n\u001b[1;32m      9\u001b[0m     \u001b[0mclass_mode\u001b[0m \u001b[0;34m=\u001b[0m \u001b[0;32mNone\u001b[0m\u001b[0;34m,\u001b[0m\u001b[0;34m\u001b[0m\u001b[0;34m\u001b[0m\u001b[0m\n\u001b[1;32m     10\u001b[0m     \u001b[0mshuffle\u001b[0m \u001b[0;34m=\u001b[0m \u001b[0;32mFalse\u001b[0m\u001b[0;34m,\u001b[0m\u001b[0;34m\u001b[0m\u001b[0;34m\u001b[0m\u001b[0m\n\u001b[0;32m---> 11\u001b[0;31m     \u001b[0mseed\u001b[0m \u001b[0;34m=\u001b[0m \u001b[0;36m123\u001b[0m\u001b[0;34m\u001b[0m\u001b[0;34m\u001b[0m\u001b[0m\n\u001b[0m\u001b[1;32m     12\u001b[0m )\n\u001b[1;32m     13\u001b[0m \u001b[0;34m\u001b[0m\u001b[0m\n",
            "\u001b[0;32m/usr/local/lib/python3.6/dist-packages/keras/preprocessing/image.py\u001b[0m in \u001b[0;36mflow_from_directory\u001b[0;34m(self, directory, target_size, color_mode, classes, class_mode, batch_size, shuffle, seed, save_to_dir, save_prefix, save_format, follow_links, subset, interpolation)\u001b[0m\n\u001b[1;32m    465\u001b[0m             \u001b[0mfollow_links\u001b[0m\u001b[0;34m=\u001b[0m\u001b[0mfollow_links\u001b[0m\u001b[0;34m,\u001b[0m\u001b[0;34m\u001b[0m\u001b[0;34m\u001b[0m\u001b[0m\n\u001b[1;32m    466\u001b[0m             \u001b[0msubset\u001b[0m\u001b[0;34m=\u001b[0m\u001b[0msubset\u001b[0m\u001b[0;34m,\u001b[0m\u001b[0;34m\u001b[0m\u001b[0;34m\u001b[0m\u001b[0m\n\u001b[0;32m--> 467\u001b[0;31m             \u001b[0minterpolation\u001b[0m\u001b[0;34m=\u001b[0m\u001b[0minterpolation\u001b[0m\u001b[0;34m\u001b[0m\u001b[0;34m\u001b[0m\u001b[0m\n\u001b[0m\u001b[1;32m    468\u001b[0m         )\n\u001b[1;32m    469\u001b[0m \u001b[0;34m\u001b[0m\u001b[0m\n",
            "\u001b[0;32m/usr/local/lib/python3.6/dist-packages/keras/preprocessing/image.py\u001b[0m in \u001b[0;36m__init__\u001b[0;34m(self, directory, image_data_generator, target_size, color_mode, classes, class_mode, batch_size, shuffle, seed, data_format, save_to_dir, save_prefix, save_format, follow_links, subset, interpolation, dtype)\u001b[0m\n\u001b[1;32m    148\u001b[0m             \u001b[0msubset\u001b[0m\u001b[0;34m=\u001b[0m\u001b[0msubset\u001b[0m\u001b[0;34m,\u001b[0m\u001b[0;34m\u001b[0m\u001b[0;34m\u001b[0m\u001b[0m\n\u001b[1;32m    149\u001b[0m             \u001b[0minterpolation\u001b[0m\u001b[0;34m=\u001b[0m\u001b[0minterpolation\u001b[0m\u001b[0;34m,\u001b[0m\u001b[0;34m\u001b[0m\u001b[0;34m\u001b[0m\u001b[0m\n\u001b[0;32m--> 150\u001b[0;31m             dtype=dtype)\n\u001b[0m\u001b[1;32m    151\u001b[0m \u001b[0;34m\u001b[0m\u001b[0m\n\u001b[1;32m    152\u001b[0m \u001b[0;34m\u001b[0m\u001b[0m\n",
            "\u001b[0;32m/usr/local/lib/python3.6/dist-packages/keras_preprocessing/image/directory_iterator.py\u001b[0m in \u001b[0;36m__init__\u001b[0;34m(self, directory, image_data_generator, target_size, color_mode, classes, class_mode, batch_size, shuffle, seed, data_format, save_to_dir, save_prefix, save_format, follow_links, subset, interpolation, dtype)\u001b[0m\n\u001b[1;32m    113\u001b[0m         \u001b[0;32mif\u001b[0m \u001b[0;32mnot\u001b[0m \u001b[0mclasses\u001b[0m\u001b[0;34m:\u001b[0m\u001b[0;34m\u001b[0m\u001b[0;34m\u001b[0m\u001b[0m\n\u001b[1;32m    114\u001b[0m             \u001b[0mclasses\u001b[0m \u001b[0;34m=\u001b[0m \u001b[0;34m[\u001b[0m\u001b[0;34m]\u001b[0m\u001b[0;34m\u001b[0m\u001b[0;34m\u001b[0m\u001b[0m\n\u001b[0;32m--> 115\u001b[0;31m             \u001b[0;32mfor\u001b[0m \u001b[0msubdir\u001b[0m \u001b[0;32min\u001b[0m \u001b[0msorted\u001b[0m\u001b[0;34m(\u001b[0m\u001b[0mos\u001b[0m\u001b[0;34m.\u001b[0m\u001b[0mlistdir\u001b[0m\u001b[0;34m(\u001b[0m\u001b[0mdirectory\u001b[0m\u001b[0;34m)\u001b[0m\u001b[0;34m)\u001b[0m\u001b[0;34m:\u001b[0m\u001b[0;34m\u001b[0m\u001b[0;34m\u001b[0m\u001b[0m\n\u001b[0m\u001b[1;32m    116\u001b[0m                 \u001b[0;32mif\u001b[0m \u001b[0mos\u001b[0m\u001b[0;34m.\u001b[0m\u001b[0mpath\u001b[0m\u001b[0;34m.\u001b[0m\u001b[0misdir\u001b[0m\u001b[0;34m(\u001b[0m\u001b[0mos\u001b[0m\u001b[0;34m.\u001b[0m\u001b[0mpath\u001b[0m\u001b[0;34m.\u001b[0m\u001b[0mjoin\u001b[0m\u001b[0;34m(\u001b[0m\u001b[0mdirectory\u001b[0m\u001b[0;34m,\u001b[0m \u001b[0msubdir\u001b[0m\u001b[0;34m)\u001b[0m\u001b[0;34m)\u001b[0m\u001b[0;34m:\u001b[0m\u001b[0;34m\u001b[0m\u001b[0;34m\u001b[0m\u001b[0m\n\u001b[1;32m    117\u001b[0m                     \u001b[0mclasses\u001b[0m\u001b[0;34m.\u001b[0m\u001b[0mappend\u001b[0m\u001b[0;34m(\u001b[0m\u001b[0msubdir\u001b[0m\u001b[0;34m)\u001b[0m\u001b[0;34m\u001b[0m\u001b[0;34m\u001b[0m\u001b[0m\n",
            "\u001b[0;31mFileNotFoundError\u001b[0m: [Errno 2] No such file or directory: '/content/drive/My Drive/Face_D/Validation'"
          ]
        }
      ]
    },
    {
      "cell_type": "code",
      "metadata": {
        "id": "Il-eDRB5-87c",
        "colab_type": "code",
        "colab": {}
      },
      "source": [
        "actual_labels = test_generator.classes\n",
        "print(\"Actual Labels:\\n\",actual_labels)\n",
        "# print(test_generator.filenames)\n",
        "\n",
        "def load_model_and_weights():\n",
        "    print(\"[INFO] Loading face model and its weights...\")\n",
        "    # Loading and using saved model steps\n",
        "    # load json and create model\n",
        "    js_file = open('/content/drive/My Drive/SAVED MODELS/Face Model/model22.json', 'r')\n",
        "    loaded_model_json = js_file.read()\n",
        "    js_file.close()\n",
        "    loaded_model = model_from_json(loaded_model_json)\n",
        "    # load weights into new loaded model\n",
        "    loaded_model.load_weights('/content/drive/My Drive/SAVED MODELS/Face Model/best_face.h5')\n",
        "    print(\"Loaded face model with its weights from drive\")\n",
        "    return loaded_model\n",
        "\n",
        "# load the model and weights from directory\n",
        "loaded_model= load_model_and_weights()\n",
        "\n",
        "#pred = model.predict_generator(test_generator, steps = len(test_generator), verbose = 1)\n",
        "\n",
        "# the loaded model predictions\n",
        "pred = loaded_model.predict_generator(test_generator, steps = len(test_generator), verbose = 1)\n",
        "\n",
        "random_pred=loaded_model.predict_generator(test_generator_random, steps = len(test_generator_random), verbose = 1)\n",
        "predicted_class_indices = np.argmax(pred, axis = 1)\n",
        " \n",
        " # confusion matrix, all corrected classified classes are in the diagonal entries of the matrix\n",
        " # the colomuns are actual labels vs Rows as predicted Labels\n",
        "\n",
        "cm = confusion_matrix(actual_labels,predicted_class_indices)\n",
        "print(cm)\n",
        "\n",
        "\n",
        "# print(\"Labels:\\n\")\n",
        "# import tensorflow.keras\n",
        "# np_utils.probas_to_classes\n",
        "# class_names= keras.np_utils.probas_to_classes(pred)\n",
        "# predicted_labels = y_proba.argmax(axis=-1)\n",
        "# print(class_names)\n",
        "for pre in pred:\n",
        "    print(np.argmax(pre))\n",
        "    "
      ],
      "execution_count": 0,
      "outputs": []
    },
    {
      "cell_type": "code",
      "metadata": {
        "id": "wZsZUYKRMzrj",
        "colab_type": "code",
        "colab": {}
      },
      "source": [
        "print(pred.shape)\n",
        "\n",
        "# FAR calculator\n",
        "tresh=[]\n",
        "percent=[]\n",
        "treshold=0\n",
        "while  treshold <100:\n",
        "    accepted_reg=0\n",
        "    for registered_index in pred:\n",
        "      counter_reg=0\n",
        "      array_reg=np.array([0.0])\n",
        "      max_confidence_reg = array_reg.astype(type('float32', (float,), {}))\n",
        "      max_confIndex_reg=0\n",
        "      for j in registered_index:\n",
        "        if (j > max_confidence_reg):\n",
        "          max_confidence_reg=j\n",
        "          max_confIndex_reg=counter_reg\n",
        "        counter_reg=counter_reg+1\n",
        "      if(max_confidence_reg > treshold*0.01):\n",
        "        accepted_reg+=1\n",
        "    tresh.append(treshold)\n",
        "    percent.append((80-accepted_reg)/80)\n",
        "    treshold+=0.01\n",
        "\n",
        "\n",
        "tresh_imp=[]\n",
        "percent_imp=[]\n",
        "treshold_imp=0\n",
        "while  treshold_imp <100:\n",
        "    accepted_imp=0\n",
        "    for imp_index in random_pred:\n",
        "      counter_imp=0\n",
        "      array_imp=np.array([0.0])\n",
        "      max_confidence_imp = array_imp.astype(type('float32', (float,), {}))\n",
        "      max_confIndex_imp=0\n",
        "      for j in imp_index:\n",
        "        if (j > max_confidence_imp):\n",
        "          max_confidence_imp=j\n",
        "          max_confIndex_imp=counter_imp\n",
        "        counter_imp+=1\n",
        "      if(max_confidence_imp > treshold_imp*0.01):\n",
        "        accepted_imp+=1\n",
        "    tresh_imp.append(treshold_imp)\n",
        "    percent_imp.append((accepted_imp)/80)\n",
        "    treshold_imp+=0.01\n",
        "\n",
        "\n",
        "equal_tresh=[]\n",
        "equal_percent=[]\n",
        "for i in range(0,len(tresh_imp)):\n",
        "  if (percent_imp[i] == percent[i]):\n",
        "     equal_tresh.append(tresh_imp[i])\n",
        "     equal_percent.append(percent_imp[i])\n",
        "\n",
        "print(\"Equal Treshold :\",equal_tresh)\n",
        "plt.plot(tresh,percent)\n",
        "plt.plot(tresh_imp,percent_imp)\n",
        "plt.plot(equal_tresh,equal_percent)\n",
        "plt.title('Error Rate')  \n",
        "plt.ylabel('percentage')  \n",
        "plt.xlabel('treshold level')  \n",
        "plt.legend(['FRR', 'FAR','EER']) \n",
        "plt.show()"
      ],
      "execution_count": 0,
      "outputs": []
    },
    {
      "cell_type": "code",
      "metadata": {
        "id": "RVRRocwQqbgc",
        "colab_type": "code",
        "colab": {}
      },
      "source": [
        "# correct labeling function\n",
        "def Correct_Labeling():\n",
        "    import numpy as np\n",
        "    count=0\n",
        "    for indexx in pred:\n",
        "      kk=0\n",
        "      arrayedd=np.array([0.0])\n",
        "      maxmm = arrayedd.astype(type('float32', (float,), {}))\n",
        "      maxm_indexx=0\n",
        "      for j in indexx:\n",
        "        if (j > maxmm):\n",
        "          maxmm=j\n",
        "          maxm_indexx=kk\n",
        "        kk=kk+1\n",
        "      print(\"\\n\",maxm_indexx,maxmm)\n",
        "      if maxmm < 0.80:\n",
        "        count+=1\n",
        "      print(count)\n",
        "\n",
        "\n",
        "Correct_Labeling()\n",
        "\n",
        "    "
      ],
      "execution_count": 0,
      "outputs": []
    },
    {
      "cell_type": "markdown",
      "metadata": {
        "id": "ttuoDSKkGBKi",
        "colab_type": "text"
      },
      "source": [
        "*`**`Iris Biometric System Starts from here`**`*"
      ]
    },
    {
      "cell_type": "code",
      "metadata": {
        "id": "DNFb_ak5GKPi",
        "colab_type": "code",
        "colab": {}
      },
      "source": [
        ""
      ],
      "execution_count": 0,
      "outputs": []
    },
    {
      "cell_type": "code",
      "metadata": {
        "id": "K9h6IwCAKCtC",
        "colab_type": "code",
        "colab": {}
      },
      "source": [
        "from google.colab import drive\n",
        "drive.mount('/content/drive')"
      ],
      "execution_count": 0,
      "outputs": []
    }
  ]
}